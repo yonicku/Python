{
 "cells": [
  {
   "cell_type": "code",
   "execution_count": 1,
   "id": "d131038e",
   "metadata": {},
   "outputs": [
    {
     "name": "stdout",
     "output_type": "stream",
     "text": [
      "hello world\n"
     ]
    }
   ],
   "source": [
    "print (\"hello world\")"
   ]
  },
  {
   "cell_type": "code",
   "execution_count": 4,
   "id": "c827e180",
   "metadata": {},
   "outputs": [
    {
     "name": "stdout",
     "output_type": "stream",
     "text": [
      "     name_raw     size      name  same_name_counts  same_size_counts\n",
      "0  2013 4.png  1946461  2013.png                 2                 2\n",
      "1    2014.png  1064209  2014.png                 1                 1\n",
      "2    2012.png  1047012  2012.png                 1                 1\n",
      "3    2013.png  1946461  2013.png                 2                 2\n"
     ]
    }
   ],
   "source": [
    "from cgi import print_form\n",
    "import os\n",
    "import pandas as pd\n",
    "import re\n",
    "\n",
    "photo_list = []\n",
    "path =\"./\"\n",
    "\n",
    "file_list = os.listdir(path)\n",
    "#print(\"file_list: {}\".format(file_list))\n",
    "for f in os.listdir(path):\n",
    "    if 'png' in f:\n",
    "        photo_list.append(f)\n",
    "    if 'jpeg' in f:\n",
    "        photo_list.append(f)\n",
    "#print(photo_List)\n",
    "\n",
    "photo_size = list(map(lambda x: os.path.getsize(path + '/' + x), photo_list))\n",
    "\n",
    "find_same_photo = pd.DataFrame({'name_raw' : photo_list, 'size' : photo_size})\n",
    "\n",
    "#print('사진의 갯수 :', len(find_same_photo))\n",
    "\n",
    "com = re.compile(' \\d')\n",
    "find_same_photo['name'] = list(map(lambda x: com.sub('', x), photo_list))\n",
    "\n",
    "same_photo_name_count = pd.DataFrame({'name':find_same_photo['name'].value_counts().index, 'same_name_counts':find_same_photo['name'].value_counts().values})   \n",
    "same_photo_size_count = pd.DataFrame({'size':find_same_photo['size'].value_counts().index, 'same_size_counts':find_same_photo['size'].value_counts().values})   \n",
    "\n",
    "find_same_photo = pd.merge(find_same_photo, same_photo_name_count, how = 'left', on = 'name')\n",
    "find_same_photo = pd.merge(find_same_photo, same_photo_size_count, how = 'left', on = 'size')\n",
    "\n",
    "find_same_photo.sample(2)\n",
    "\n",
    "#print(find_same_photo)\n",
    "for i in range(len(find_same_photo)):\n",
    "    if (find_same_photo['same_name_counts'][i] > 1) & (find_same_photo['same_size_counts'][i] == 1):\n",
    "        print(i)\n",
    "        print(\"hello world\")"
   ]
  },
  {
   "cell_type": "code",
   "execution_count": null,
   "id": "3a574661",
   "metadata": {},
   "outputs": [],
   "source": []
  }
 ],
 "metadata": {
  "kernelspec": {
   "display_name": "Python 3 (ipykernel)",
   "language": "python",
   "name": "python3"
  },
  "language_info": {
   "codemirror_mode": {
    "name": "ipython",
    "version": 3
   },
   "file_extension": ".py",
   "mimetype": "text/x-python",
   "name": "python",
   "nbconvert_exporter": "python",
   "pygments_lexer": "ipython3",
   "version": "3.9.12"
  }
 },
 "nbformat": 4,
 "nbformat_minor": 5
}
